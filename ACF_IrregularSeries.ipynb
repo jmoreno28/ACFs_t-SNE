{
 "cells": [
  {
   "cell_type": "code",
   "execution_count": null,
   "metadata": {
    "collapsed": true
   },
   "outputs": [],
   "source": [
    "import numpy as np"
   ]
  },
  {
   "cell_type": "code",
   "execution_count": null,
   "metadata": {
    "collapsed": true
   },
   "outputs": [],
   "source": []
  },
  {
   "cell_type": "code",
   "execution_count": null,
   "metadata": {
    "collapsed": true
   },
   "outputs": [],
   "source": [
    "def discreteacf(data,binning = False):\n",
    "    t = data[0,:]\n",
    "    y = data[1,:]\n",
    "    avg = np.mean(y)\n",
    "    sigma = np.variance(y)\n",
    "    indexP = 0\n",
    "    for n in range(0, len(t)-1):\n",
    "        for k in range(0,len(t)-n):\n",
    "            indexP = indexP+1\n",
    "            product = (y[n]-avg)*(y[n+k]-avg)\n",
    "            dt = t[n+k]-t[n]\n",
    "            P[:,indexP] = np.array([product,dt])\n",
    "    sortedP = np.sort(P, axis = 1)\n",
    "    #binedges = \n",
    "    if binning = True:\n",
    "        print(\"binning\")"
   ]
  }
 ],
 "metadata": {
  "kernelspec": {
   "display_name": "Python 3",
   "language": "python",
   "name": "python3"
  },
  "language_info": {
   "codemirror_mode": {
    "name": "ipython",
    "version": 3
   },
   "file_extension": ".py",
   "mimetype": "text/x-python",
   "name": "python",
   "nbconvert_exporter": "python",
   "pygments_lexer": "ipython3",
   "version": "3.6.1"
  }
 },
 "nbformat": 4,
 "nbformat_minor": 2
}
