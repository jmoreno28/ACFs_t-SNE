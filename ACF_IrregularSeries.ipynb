{
 "cells": [
  {
   "cell_type": "code",
   "execution_count": 1,
   "metadata": {},
   "outputs": [],
   "source": [
    "import numpy as np\n",
    "import random\n",
    "#import kali.csvLC\n",
    "#import kali.carma\n",
    "import matplotlib as mpl\n",
    "import matplotlib.pyplot as plt\n",
    "#import imp\n",
    "#imp.reload(mpl); imp.reload(plt);\n",
    "%matplotlib inline"
   ]
  },
  {
   "cell_type": "code",
   "execution_count": 2,
   "metadata": {},
   "outputs": [],
   "source": [
    "import richardsplot as rplot"
   ]
  },
  {
   "cell_type": "code",
   "execution_count": 3,
   "metadata": {},
   "outputs": [],
   "source": [
    "def discreteacf(t,y,binning = False):\n",
    "    #t = data[0,:]\n",
    "    #y = data[1,:]\n",
    "    avg = np.mean(y)\n",
    "    sigma = np.std(y)\n",
    "    indexP = 0\n",
    "    N = len(t)\n",
    "    acf = np.array([])\n",
    "    P = np.zeros(shape = [2, (N-1)*N])\n",
    "    for n in range(0, len(t)-1):\n",
    "        for k in range(0,len(t)-n):\n",
    "            indexP = indexP+1\n",
    "            product = (y[n]-avg)*(y[n+k]-avg)\n",
    "            dt = t[n+k]-t[n]\n",
    "            P[:,indexP] = np.array([product,dt])\n",
    "    sortedP = np.sort(P[:,P[1,:]!= 0], axis = 0)\n",
    "    if binning == True:\n",
    "        print(\"binning\")\n",
    "        count, bin_edges = np.histogram(dt,bins = 100,density=False)\n",
    "        for i in range(0, len(bin_edges)-1):\n",
    "            dt = sortedP[1, :]\n",
    "            mask = ( (x < bin_edges[i+1]) &  (x > bin_edges[i]))\n",
    "            print sortedP[0, mask]\n",
    "\n",
    "            Sum = np.sum(sortedP[0, mask])\n",
    "            print Sum\n",
    "            acf = np.append(acf, Sum/count[i])\n",
    "        ACF = acf  \n",
    "    else:\n",
    "        ACF = P\n",
    "    return ACF, bin_edges      "
   ]
  },
  {
   "cell_type": "code",
   "execution_count": null,
   "metadata": {},
   "outputs": [],
   "source": []
  }
 ],
 "metadata": {
  "kernelspec": {
   "display_name": "Python 2",
   "language": "python",
   "name": "python2"
  },
  "language_info": {
   "codemirror_mode": {
    "name": "ipython",
    "version": 2
   },
   "file_extension": ".py",
   "mimetype": "text/x-python",
   "name": "python",
   "nbconvert_exporter": "python",
   "pygments_lexer": "ipython2",
   "version": "2.7.11"
  }
 },
 "nbformat": 4,
 "nbformat_minor": 2
}
